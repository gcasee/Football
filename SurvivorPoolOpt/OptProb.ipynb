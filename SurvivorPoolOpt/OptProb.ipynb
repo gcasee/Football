{
 "cells": [
  {
   "cell_type": "code",
   "execution_count": 1,
   "id": "3901e3f2-3843-4bb8-a7b4-a730109f0fae",
   "metadata": {},
   "outputs": [],
   "source": [
    "import pandas as pd\n",
    "import numpy as np\n",
    "from ortools.sat.python import cp_model"
   ]
  },
  {
   "cell_type": "code",
   "execution_count": 2,
   "id": "87ad3462-78de-44ee-9427-9f47d34e59af",
   "metadata": {},
   "outputs": [],
   "source": [
    "data = pd.read_csv('ProbMatrix.csv')"
   ]
  },
  {
   "cell_type": "code",
   "execution_count": 3,
   "id": "ca2200cf-7e02-46cc-9c07-1a979dbc9ede",
   "metadata": {},
   "outputs": [],
   "source": [
    "names = data['Team']\n",
    "teams = range(32)\n",
    "weeks = range(18)\n",
    "probs = data.drop('Team', axis=1).to_numpy()"
   ]
  },
  {
   "cell_type": "code",
   "execution_count": 4,
   "id": "888577d3-fe69-44f2-859c-8bb8aacc299b",
   "metadata": {},
   "outputs": [],
   "source": [
    "model = cp_model.CpModel()\n",
    "\n",
    "# Generate all the binary decision variables\n",
    "x = {}\n",
    "for t in teams:\n",
    "    for w in weeks:\n",
    "        x[(t, w)] = model.NewBoolVar(f'x{t}{w}')\n",
    "\n",
    "# Team Constraint\n",
    "for t in teams:\n",
    "    model.Add(sum(x[(t, w)] for w in weeks) <= 1)\n",
    "\n",
    "# Week Constraint\n",
    "for w in weeks:\n",
    "    model.Add(sum(x[(t, w)] for t in teams) == 1)\n",
    "\n",
    "# Objective function\n",
    "model.Maximize(\n",
    "    sum(x[(t, w)]*np.log(probs[t][w] + 1e-6) for t in teams for w in weeks)\n",
    ")"
   ]
  },
  {
   "cell_type": "code",
   "execution_count": 5,
   "id": "e5227b6c-6f34-4907-97ac-a0b6db38116c",
   "metadata": {},
   "outputs": [],
   "source": [
    "solver = cp_model.CpSolver()\n",
    "solver.parameters.max_time_in_seconds = 10\n",
    "solver.parameters.num_search_workers = 4\n",
    "status = solver.Solve(model)"
   ]
  },
  {
   "cell_type": "code",
   "execution_count": 6,
   "id": "a4fafd4a-f1f2-4e7f-af7f-60b7b9a2b910",
   "metadata": {},
   "outputs": [
    {
     "name": "stdout",
     "output_type": "stream",
     "text": [
      "Optimal Solution\n",
      "Week 1: Seattle Seahawks (69.0%)\n",
      "Week 2: Green Bay Packers (64.4%)\n",
      "Week 3: New York Jets (73.9%)\n",
      "Week 4: San Francisco 49ers (82.3%)\n",
      "Week 5: Chicago Bears (67.0%)\n",
      "Week 6: Houston Texans (66.6%)\n",
      "Week 7: Jacksonville Jaguars (70.7%)\n",
      "Week 8: Detroit Lions (74.9%)\n",
      "Week 9: Baltimore Ravens (81.3%)\n",
      "Week 10: Kansas City Chiefs (78.3%)\n",
      "Week 11: Los Angeles Rams (64.8%)\n",
      "Week 12: Miami Dolphins (75.2%)\n",
      "Week 13: Dallas Cowboys (77.1%)\n",
      "Week 14: Philadelphia Eagles (76.2%)\n",
      "Week 15: Arizona Cardinals (63.3%)\n",
      "Week 16: Buffalo Bills (77.4%)\n",
      "Week 17: Cincinnati Bengals (77.0%)\n",
      "Week 18: Atlanta Falcons (70.5%)\n",
      "1 in 323 chance of winning\n"
     ]
    }
   ],
   "source": [
    "# Print the winning lineup\n",
    "if status == cp_model.OPTIMAL or status == cp_model.FEASIBLE:\n",
    "    res = 'Optimal' if status == cp_model.OPTIMAL else 'Feasible'\n",
    "    print('{} Solution'.format(res))\n",
    "    final_prob = 0\n",
    "    for w in weeks:\n",
    "        for t in teams:\n",
    "            if solver.Value(x[(t, w)]) == 1:\n",
    "                print(f'Week {1 + w}: {names.iloc[t]} ({round(100*probs[t][w], 1)}%)')\n",
    "                final_prob += np.log(probs[t][w])\n",
    "    print(f'1 in {int(1 / np.exp(final_prob))} chance of winning')"
   ]
  },
  {
   "cell_type": "code",
   "execution_count": null,
   "id": "43c7b58a-3393-4186-b04d-2d323a3c4dfa",
   "metadata": {},
   "outputs": [],
   "source": []
  }
 ],
 "metadata": {
  "kernelspec": {
   "display_name": "Python 3 (ipykernel)",
   "language": "python",
   "name": "python3"
  },
  "language_info": {
   "codemirror_mode": {
    "name": "ipython",
    "version": 3
   },
   "file_extension": ".py",
   "mimetype": "text/x-python",
   "name": "python",
   "nbconvert_exporter": "python",
   "pygments_lexer": "ipython3",
   "version": "3.12.3"
  }
 },
 "nbformat": 4,
 "nbformat_minor": 5
}

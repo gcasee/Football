{
 "cells": [
  {
   "cell_type": "code",
   "execution_count": 1,
   "id": "da667cc8-12c5-44bb-8d4c-219ba9edc83d",
   "metadata": {},
   "outputs": [],
   "source": [
    "import pandas as pd"
   ]
  },
  {
   "cell_type": "code",
   "execution_count": 2,
   "id": "44c471ab-e045-475f-8311-2c3ea09793ae",
   "metadata": {},
   "outputs": [],
   "source": [
    "odds_file = 'OddsAPI.csv'\n",
    "bye_file = 'ByeWeeks.csv'\n",
    "data = pd.read_csv(odds_file)\n",
    "byes = pd.read_csv(bye_file).set_index('Team')['Bye'].to_dict()\n",
    "data['gameid'] = data['event_name'] + data['commence']"
   ]
  },
  {
   "cell_type": "code",
   "execution_count": 3,
   "id": "d14c22b9-c097-4159-a835-b80c19f0ad37",
   "metadata": {},
   "outputs": [],
   "source": [
    "def parse_game(game):\n",
    "    team1, team2 = game['event_name'].iloc[0].split('_')\n",
    "    odd1 = game['odd_1'].mean()\n",
    "    odd2 = game['odd_2'].mean()\n",
    "    p1 = 1 / (1 + odd1 / odd2)\n",
    "    p2 = 1 / (1 + odd2 / odd1)\n",
    "    return (team1, p1, team2, p2)"
   ]
  },
  {
   "cell_type": "code",
   "execution_count": 4,
   "id": "6dda09c6-a477-4869-b78d-e3074555aa13",
   "metadata": {},
   "outputs": [],
   "source": [
    "df = None\n",
    "\n",
    "for gid in data['gameid'].unique():\n",
    "    game = data[data['gameid'] == gid]\n",
    "    team1, p1, team2, p2 = parse_game(game)\n",
    "    new_df = pd.DataFrame([[team1, p1], [team2, p2]], columns=['Team', 'Prob'])\n",
    "    \n",
    "    if df is None:\n",
    "        df = new_df\n",
    "    else:\n",
    "        df = pd.concat([df, new_df])\n"
   ]
  },
  {
   "cell_type": "code",
   "execution_count": 5,
   "id": "4385d440-39c1-448d-836c-f632f0b771f9",
   "metadata": {},
   "outputs": [],
   "source": [
    "probs_df = None\n",
    "cols = ['Team'] + [f'Week{i + 1}' for i in range(18)]\n",
    "\n",
    "for team, bye in byes.items():\n",
    "    team_df = df[df['Team'] == team].reset_index()\n",
    "    \n",
    "    team_probs = [team]\n",
    "    bye_flag = False\n",
    "    for i in range(18):\n",
    "        try:\n",
    "            if i + 1 == bye:\n",
    "                team_probs.append(0.0)\n",
    "                bye_flag = True\n",
    "            elif not bye_flag:\n",
    "                team_probs.append(team_df.iloc[i]['Prob'])\n",
    "            else:\n",
    "                team_probs.append(team_df.iloc[i - 1]['Prob'])\n",
    "        except IndexError:\n",
    "            team_probs.append(0)\n",
    "    new_df = pd.DataFrame(data=[team_probs], columns=cols)\n",
    "    if probs_df is None:\n",
    "        probs_df = new_df\n",
    "    else:\n",
    "        probs_df = pd.concat([probs_df, new_df])"
   ]
  },
  {
   "cell_type": "code",
   "execution_count": 6,
   "id": "f2a2d754-2b5e-4bef-93c7-0a3261daf99b",
   "metadata": {},
   "outputs": [],
   "source": [
    "probs_df.to_csv('ProbMatrix.csv', index=False)"
   ]
  },
  {
   "cell_type": "code",
   "execution_count": null,
   "id": "870deb73-8b59-416f-a9f0-8f72efe69d25",
   "metadata": {},
   "outputs": [],
   "source": []
  }
 ],
 "metadata": {
  "kernelspec": {
   "display_name": "Python 3 (ipykernel)",
   "language": "python",
   "name": "python3"
  },
  "language_info": {
   "codemirror_mode": {
    "name": "ipython",
    "version": 3
   },
   "file_extension": ".py",
   "mimetype": "text/x-python",
   "name": "python",
   "nbconvert_exporter": "python",
   "pygments_lexer": "ipython3",
   "version": "3.12.3"
  }
 },
 "nbformat": 4,
 "nbformat_minor": 5
}
